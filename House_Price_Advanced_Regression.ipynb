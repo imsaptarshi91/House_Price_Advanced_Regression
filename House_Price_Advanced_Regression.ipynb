{
 "cells": [
  {
   "cell_type": "code",
   "execution_count": 1,
   "id": "93825c7d",
   "metadata": {},
   "outputs": [],
   "source": [
    "import pandas as pd\n",
    "import numpy as np\n",
    "import matplotlib.pyplot as plt\n",
    "import seaborn as sns\n",
    "import warnings\n",
    "warnings.filterwarnings('ignore')"
   ]
  },
  {
   "cell_type": "code",
   "execution_count": 2,
   "id": "acff2a27",
   "metadata": {},
   "outputs": [
    {
     "data": {
      "text/html": [
       "<div>\n",
       "<style scoped>\n",
       "    .dataframe tbody tr th:only-of-type {\n",
       "        vertical-align: middle;\n",
       "    }\n",
       "\n",
       "    .dataframe tbody tr th {\n",
       "        vertical-align: top;\n",
       "    }\n",
       "\n",
       "    .dataframe thead th {\n",
       "        text-align: right;\n",
       "    }\n",
       "</style>\n",
       "<table border=\"1\" class=\"dataframe\">\n",
       "  <thead>\n",
       "    <tr style=\"text-align: right;\">\n",
       "      <th></th>\n",
       "      <th>MSSubClass</th>\n",
       "      <th>MSZoning</th>\n",
       "      <th>LotFrontage</th>\n",
       "      <th>LotArea</th>\n",
       "      <th>Street</th>\n",
       "      <th>Alley</th>\n",
       "      <th>LotShape</th>\n",
       "      <th>LandContour</th>\n",
       "      <th>Utilities</th>\n",
       "      <th>LotConfig</th>\n",
       "      <th>...</th>\n",
       "      <th>PoolArea</th>\n",
       "      <th>PoolQC</th>\n",
       "      <th>Fence</th>\n",
       "      <th>MiscFeature</th>\n",
       "      <th>MiscVal</th>\n",
       "      <th>MoSold</th>\n",
       "      <th>YrSold</th>\n",
       "      <th>SaleType</th>\n",
       "      <th>SaleCondition</th>\n",
       "      <th>SalePrice</th>\n",
       "    </tr>\n",
       "    <tr>\n",
       "      <th>Id</th>\n",
       "      <th></th>\n",
       "      <th></th>\n",
       "      <th></th>\n",
       "      <th></th>\n",
       "      <th></th>\n",
       "      <th></th>\n",
       "      <th></th>\n",
       "      <th></th>\n",
       "      <th></th>\n",
       "      <th></th>\n",
       "      <th></th>\n",
       "      <th></th>\n",
       "      <th></th>\n",
       "      <th></th>\n",
       "      <th></th>\n",
       "      <th></th>\n",
       "      <th></th>\n",
       "      <th></th>\n",
       "      <th></th>\n",
       "      <th></th>\n",
       "      <th></th>\n",
       "    </tr>\n",
       "  </thead>\n",
       "  <tbody>\n",
       "    <tr>\n",
       "      <th>1</th>\n",
       "      <td>60</td>\n",
       "      <td>RL</td>\n",
       "      <td>65.0</td>\n",
       "      <td>8450</td>\n",
       "      <td>Pave</td>\n",
       "      <td>NaN</td>\n",
       "      <td>Reg</td>\n",
       "      <td>Lvl</td>\n",
       "      <td>AllPub</td>\n",
       "      <td>Inside</td>\n",
       "      <td>...</td>\n",
       "      <td>0</td>\n",
       "      <td>NaN</td>\n",
       "      <td>NaN</td>\n",
       "      <td>NaN</td>\n",
       "      <td>0</td>\n",
       "      <td>2</td>\n",
       "      <td>2008</td>\n",
       "      <td>WD</td>\n",
       "      <td>Normal</td>\n",
       "      <td>208500</td>\n",
       "    </tr>\n",
       "    <tr>\n",
       "      <th>2</th>\n",
       "      <td>20</td>\n",
       "      <td>RL</td>\n",
       "      <td>80.0</td>\n",
       "      <td>9600</td>\n",
       "      <td>Pave</td>\n",
       "      <td>NaN</td>\n",
       "      <td>Reg</td>\n",
       "      <td>Lvl</td>\n",
       "      <td>AllPub</td>\n",
       "      <td>FR2</td>\n",
       "      <td>...</td>\n",
       "      <td>0</td>\n",
       "      <td>NaN</td>\n",
       "      <td>NaN</td>\n",
       "      <td>NaN</td>\n",
       "      <td>0</td>\n",
       "      <td>5</td>\n",
       "      <td>2007</td>\n",
       "      <td>WD</td>\n",
       "      <td>Normal</td>\n",
       "      <td>181500</td>\n",
       "    </tr>\n",
       "    <tr>\n",
       "      <th>3</th>\n",
       "      <td>60</td>\n",
       "      <td>RL</td>\n",
       "      <td>68.0</td>\n",
       "      <td>11250</td>\n",
       "      <td>Pave</td>\n",
       "      <td>NaN</td>\n",
       "      <td>IR1</td>\n",
       "      <td>Lvl</td>\n",
       "      <td>AllPub</td>\n",
       "      <td>Inside</td>\n",
       "      <td>...</td>\n",
       "      <td>0</td>\n",
       "      <td>NaN</td>\n",
       "      <td>NaN</td>\n",
       "      <td>NaN</td>\n",
       "      <td>0</td>\n",
       "      <td>9</td>\n",
       "      <td>2008</td>\n",
       "      <td>WD</td>\n",
       "      <td>Normal</td>\n",
       "      <td>223500</td>\n",
       "    </tr>\n",
       "    <tr>\n",
       "      <th>4</th>\n",
       "      <td>70</td>\n",
       "      <td>RL</td>\n",
       "      <td>60.0</td>\n",
       "      <td>9550</td>\n",
       "      <td>Pave</td>\n",
       "      <td>NaN</td>\n",
       "      <td>IR1</td>\n",
       "      <td>Lvl</td>\n",
       "      <td>AllPub</td>\n",
       "      <td>Corner</td>\n",
       "      <td>...</td>\n",
       "      <td>0</td>\n",
       "      <td>NaN</td>\n",
       "      <td>NaN</td>\n",
       "      <td>NaN</td>\n",
       "      <td>0</td>\n",
       "      <td>2</td>\n",
       "      <td>2006</td>\n",
       "      <td>WD</td>\n",
       "      <td>Abnorml</td>\n",
       "      <td>140000</td>\n",
       "    </tr>\n",
       "    <tr>\n",
       "      <th>5</th>\n",
       "      <td>60</td>\n",
       "      <td>RL</td>\n",
       "      <td>84.0</td>\n",
       "      <td>14260</td>\n",
       "      <td>Pave</td>\n",
       "      <td>NaN</td>\n",
       "      <td>IR1</td>\n",
       "      <td>Lvl</td>\n",
       "      <td>AllPub</td>\n",
       "      <td>FR2</td>\n",
       "      <td>...</td>\n",
       "      <td>0</td>\n",
       "      <td>NaN</td>\n",
       "      <td>NaN</td>\n",
       "      <td>NaN</td>\n",
       "      <td>0</td>\n",
       "      <td>12</td>\n",
       "      <td>2008</td>\n",
       "      <td>WD</td>\n",
       "      <td>Normal</td>\n",
       "      <td>250000</td>\n",
       "    </tr>\n",
       "    <tr>\n",
       "      <th>...</th>\n",
       "      <td>...</td>\n",
       "      <td>...</td>\n",
       "      <td>...</td>\n",
       "      <td>...</td>\n",
       "      <td>...</td>\n",
       "      <td>...</td>\n",
       "      <td>...</td>\n",
       "      <td>...</td>\n",
       "      <td>...</td>\n",
       "      <td>...</td>\n",
       "      <td>...</td>\n",
       "      <td>...</td>\n",
       "      <td>...</td>\n",
       "      <td>...</td>\n",
       "      <td>...</td>\n",
       "      <td>...</td>\n",
       "      <td>...</td>\n",
       "      <td>...</td>\n",
       "      <td>...</td>\n",
       "      <td>...</td>\n",
       "      <td>...</td>\n",
       "    </tr>\n",
       "    <tr>\n",
       "      <th>1456</th>\n",
       "      <td>60</td>\n",
       "      <td>RL</td>\n",
       "      <td>62.0</td>\n",
       "      <td>7917</td>\n",
       "      <td>Pave</td>\n",
       "      <td>NaN</td>\n",
       "      <td>Reg</td>\n",
       "      <td>Lvl</td>\n",
       "      <td>AllPub</td>\n",
       "      <td>Inside</td>\n",
       "      <td>...</td>\n",
       "      <td>0</td>\n",
       "      <td>NaN</td>\n",
       "      <td>NaN</td>\n",
       "      <td>NaN</td>\n",
       "      <td>0</td>\n",
       "      <td>8</td>\n",
       "      <td>2007</td>\n",
       "      <td>WD</td>\n",
       "      <td>Normal</td>\n",
       "      <td>175000</td>\n",
       "    </tr>\n",
       "    <tr>\n",
       "      <th>1457</th>\n",
       "      <td>20</td>\n",
       "      <td>RL</td>\n",
       "      <td>85.0</td>\n",
       "      <td>13175</td>\n",
       "      <td>Pave</td>\n",
       "      <td>NaN</td>\n",
       "      <td>Reg</td>\n",
       "      <td>Lvl</td>\n",
       "      <td>AllPub</td>\n",
       "      <td>Inside</td>\n",
       "      <td>...</td>\n",
       "      <td>0</td>\n",
       "      <td>NaN</td>\n",
       "      <td>MnPrv</td>\n",
       "      <td>NaN</td>\n",
       "      <td>0</td>\n",
       "      <td>2</td>\n",
       "      <td>2010</td>\n",
       "      <td>WD</td>\n",
       "      <td>Normal</td>\n",
       "      <td>210000</td>\n",
       "    </tr>\n",
       "    <tr>\n",
       "      <th>1458</th>\n",
       "      <td>70</td>\n",
       "      <td>RL</td>\n",
       "      <td>66.0</td>\n",
       "      <td>9042</td>\n",
       "      <td>Pave</td>\n",
       "      <td>NaN</td>\n",
       "      <td>Reg</td>\n",
       "      <td>Lvl</td>\n",
       "      <td>AllPub</td>\n",
       "      <td>Inside</td>\n",
       "      <td>...</td>\n",
       "      <td>0</td>\n",
       "      <td>NaN</td>\n",
       "      <td>GdPrv</td>\n",
       "      <td>Shed</td>\n",
       "      <td>2500</td>\n",
       "      <td>5</td>\n",
       "      <td>2010</td>\n",
       "      <td>WD</td>\n",
       "      <td>Normal</td>\n",
       "      <td>266500</td>\n",
       "    </tr>\n",
       "    <tr>\n",
       "      <th>1459</th>\n",
       "      <td>20</td>\n",
       "      <td>RL</td>\n",
       "      <td>68.0</td>\n",
       "      <td>9717</td>\n",
       "      <td>Pave</td>\n",
       "      <td>NaN</td>\n",
       "      <td>Reg</td>\n",
       "      <td>Lvl</td>\n",
       "      <td>AllPub</td>\n",
       "      <td>Inside</td>\n",
       "      <td>...</td>\n",
       "      <td>0</td>\n",
       "      <td>NaN</td>\n",
       "      <td>NaN</td>\n",
       "      <td>NaN</td>\n",
       "      <td>0</td>\n",
       "      <td>4</td>\n",
       "      <td>2010</td>\n",
       "      <td>WD</td>\n",
       "      <td>Normal</td>\n",
       "      <td>142125</td>\n",
       "    </tr>\n",
       "    <tr>\n",
       "      <th>1460</th>\n",
       "      <td>20</td>\n",
       "      <td>RL</td>\n",
       "      <td>75.0</td>\n",
       "      <td>9937</td>\n",
       "      <td>Pave</td>\n",
       "      <td>NaN</td>\n",
       "      <td>Reg</td>\n",
       "      <td>Lvl</td>\n",
       "      <td>AllPub</td>\n",
       "      <td>Inside</td>\n",
       "      <td>...</td>\n",
       "      <td>0</td>\n",
       "      <td>NaN</td>\n",
       "      <td>NaN</td>\n",
       "      <td>NaN</td>\n",
       "      <td>0</td>\n",
       "      <td>6</td>\n",
       "      <td>2008</td>\n",
       "      <td>WD</td>\n",
       "      <td>Normal</td>\n",
       "      <td>147500</td>\n",
       "    </tr>\n",
       "  </tbody>\n",
       "</table>\n",
       "<p>1460 rows × 80 columns</p>\n",
       "</div>"
      ],
      "text/plain": [
       "      MSSubClass MSZoning  LotFrontage  LotArea Street Alley LotShape  \\\n",
       "Id                                                                      \n",
       "1             60       RL         65.0     8450   Pave   NaN      Reg   \n",
       "2             20       RL         80.0     9600   Pave   NaN      Reg   \n",
       "3             60       RL         68.0    11250   Pave   NaN      IR1   \n",
       "4             70       RL         60.0     9550   Pave   NaN      IR1   \n",
       "5             60       RL         84.0    14260   Pave   NaN      IR1   \n",
       "...          ...      ...          ...      ...    ...   ...      ...   \n",
       "1456          60       RL         62.0     7917   Pave   NaN      Reg   \n",
       "1457          20       RL         85.0    13175   Pave   NaN      Reg   \n",
       "1458          70       RL         66.0     9042   Pave   NaN      Reg   \n",
       "1459          20       RL         68.0     9717   Pave   NaN      Reg   \n",
       "1460          20       RL         75.0     9937   Pave   NaN      Reg   \n",
       "\n",
       "     LandContour Utilities LotConfig  ... PoolArea PoolQC  Fence MiscFeature  \\\n",
       "Id                                    ...                                      \n",
       "1            Lvl    AllPub    Inside  ...        0    NaN    NaN         NaN   \n",
       "2            Lvl    AllPub       FR2  ...        0    NaN    NaN         NaN   \n",
       "3            Lvl    AllPub    Inside  ...        0    NaN    NaN         NaN   \n",
       "4            Lvl    AllPub    Corner  ...        0    NaN    NaN         NaN   \n",
       "5            Lvl    AllPub       FR2  ...        0    NaN    NaN         NaN   \n",
       "...          ...       ...       ...  ...      ...    ...    ...         ...   \n",
       "1456         Lvl    AllPub    Inside  ...        0    NaN    NaN         NaN   \n",
       "1457         Lvl    AllPub    Inside  ...        0    NaN  MnPrv         NaN   \n",
       "1458         Lvl    AllPub    Inside  ...        0    NaN  GdPrv        Shed   \n",
       "1459         Lvl    AllPub    Inside  ...        0    NaN    NaN         NaN   \n",
       "1460         Lvl    AllPub    Inside  ...        0    NaN    NaN         NaN   \n",
       "\n",
       "     MiscVal MoSold  YrSold  SaleType  SaleCondition  SalePrice  \n",
       "Id                                                               \n",
       "1          0      2    2008        WD         Normal     208500  \n",
       "2          0      5    2007        WD         Normal     181500  \n",
       "3          0      9    2008        WD         Normal     223500  \n",
       "4          0      2    2006        WD        Abnorml     140000  \n",
       "5          0     12    2008        WD         Normal     250000  \n",
       "...      ...    ...     ...       ...            ...        ...  \n",
       "1456       0      8    2007        WD         Normal     175000  \n",
       "1457       0      2    2010        WD         Normal     210000  \n",
       "1458    2500      5    2010        WD         Normal     266500  \n",
       "1459       0      4    2010        WD         Normal     142125  \n",
       "1460       0      6    2008        WD         Normal     147500  \n",
       "\n",
       "[1460 rows x 80 columns]"
      ]
     },
     "execution_count": 2,
     "metadata": {},
     "output_type": "execute_result"
    }
   ],
   "source": [
    "data=pd.read_csv('/Users/rishismac/Downloads/train.csv')\n",
    "data=data.set_index('Id')\n",
    "data"
   ]
  },
  {
   "cell_type": "code",
   "execution_count": 3,
   "id": "9a4b5fb9",
   "metadata": {},
   "outputs": [
    {
     "name": "stdout",
     "output_type": "stream",
     "text": [
      "<class 'pandas.core.frame.DataFrame'>\n",
      "Index: 1460 entries, 1 to 1460\n",
      "Data columns (total 80 columns):\n",
      " #   Column         Non-Null Count  Dtype  \n",
      "---  ------         --------------  -----  \n",
      " 0   MSSubClass     1460 non-null   int64  \n",
      " 1   MSZoning       1460 non-null   object \n",
      " 2   LotFrontage    1201 non-null   float64\n",
      " 3   LotArea        1460 non-null   int64  \n",
      " 4   Street         1460 non-null   object \n",
      " 5   Alley          91 non-null     object \n",
      " 6   LotShape       1460 non-null   object \n",
      " 7   LandContour    1460 non-null   object \n",
      " 8   Utilities      1460 non-null   object \n",
      " 9   LotConfig      1460 non-null   object \n",
      " 10  LandSlope      1460 non-null   object \n",
      " 11  Neighborhood   1460 non-null   object \n",
      " 12  Condition1     1460 non-null   object \n",
      " 13  Condition2     1460 non-null   object \n",
      " 14  BldgType       1460 non-null   object \n",
      " 15  HouseStyle     1460 non-null   object \n",
      " 16  OverallQual    1460 non-null   int64  \n",
      " 17  OverallCond    1460 non-null   int64  \n",
      " 18  YearBuilt      1460 non-null   int64  \n",
      " 19  YearRemodAdd   1460 non-null   int64  \n",
      " 20  RoofStyle      1460 non-null   object \n",
      " 21  RoofMatl       1460 non-null   object \n",
      " 22  Exterior1st    1460 non-null   object \n",
      " 23  Exterior2nd    1460 non-null   object \n",
      " 24  MasVnrType     588 non-null    object \n",
      " 25  MasVnrArea     1452 non-null   float64\n",
      " 26  ExterQual      1460 non-null   object \n",
      " 27  ExterCond      1460 non-null   object \n",
      " 28  Foundation     1460 non-null   object \n",
      " 29  BsmtQual       1423 non-null   object \n",
      " 30  BsmtCond       1423 non-null   object \n",
      " 31  BsmtExposure   1422 non-null   object \n",
      " 32  BsmtFinType1   1423 non-null   object \n",
      " 33  BsmtFinSF1     1460 non-null   int64  \n",
      " 34  BsmtFinType2   1422 non-null   object \n",
      " 35  BsmtFinSF2     1460 non-null   int64  \n",
      " 36  BsmtUnfSF      1460 non-null   int64  \n",
      " 37  TotalBsmtSF    1460 non-null   int64  \n",
      " 38  Heating        1460 non-null   object \n",
      " 39  HeatingQC      1460 non-null   object \n",
      " 40  CentralAir     1460 non-null   object \n",
      " 41  Electrical     1459 non-null   object \n",
      " 42  1stFlrSF       1460 non-null   int64  \n",
      " 43  2ndFlrSF       1460 non-null   int64  \n",
      " 44  LowQualFinSF   1460 non-null   int64  \n",
      " 45  GrLivArea      1460 non-null   int64  \n",
      " 46  BsmtFullBath   1460 non-null   int64  \n",
      " 47  BsmtHalfBath   1460 non-null   int64  \n",
      " 48  FullBath       1460 non-null   int64  \n",
      " 49  HalfBath       1460 non-null   int64  \n",
      " 50  BedroomAbvGr   1460 non-null   int64  \n",
      " 51  KitchenAbvGr   1460 non-null   int64  \n",
      " 52  KitchenQual    1460 non-null   object \n",
      " 53  TotRmsAbvGrd   1460 non-null   int64  \n",
      " 54  Functional     1460 non-null   object \n",
      " 55  Fireplaces     1460 non-null   int64  \n",
      " 56  FireplaceQu    770 non-null    object \n",
      " 57  GarageType     1379 non-null   object \n",
      " 58  GarageYrBlt    1379 non-null   float64\n",
      " 59  GarageFinish   1379 non-null   object \n",
      " 60  GarageCars     1460 non-null   int64  \n",
      " 61  GarageArea     1460 non-null   int64  \n",
      " 62  GarageQual     1379 non-null   object \n",
      " 63  GarageCond     1379 non-null   object \n",
      " 64  PavedDrive     1460 non-null   object \n",
      " 65  WoodDeckSF     1460 non-null   int64  \n",
      " 66  OpenPorchSF    1460 non-null   int64  \n",
      " 67  EnclosedPorch  1460 non-null   int64  \n",
      " 68  3SsnPorch      1460 non-null   int64  \n",
      " 69  ScreenPorch    1460 non-null   int64  \n",
      " 70  PoolArea       1460 non-null   int64  \n",
      " 71  PoolQC         7 non-null      object \n",
      " 72  Fence          281 non-null    object \n",
      " 73  MiscFeature    54 non-null     object \n",
      " 74  MiscVal        1460 non-null   int64  \n",
      " 75  MoSold         1460 non-null   int64  \n",
      " 76  YrSold         1460 non-null   int64  \n",
      " 77  SaleType       1460 non-null   object \n",
      " 78  SaleCondition  1460 non-null   object \n",
      " 79  SalePrice      1460 non-null   int64  \n",
      "dtypes: float64(3), int64(34), object(43)\n",
      "memory usage: 923.9+ KB\n"
     ]
    }
   ],
   "source": [
    "data.info()"
   ]
  },
  {
   "cell_type": "code",
   "execution_count": 4,
   "id": "16a9a718",
   "metadata": {},
   "outputs": [
    {
     "data": {
      "text/html": [
       "<div>\n",
       "<style scoped>\n",
       "    .dataframe tbody tr th:only-of-type {\n",
       "        vertical-align: middle;\n",
       "    }\n",
       "\n",
       "    .dataframe tbody tr th {\n",
       "        vertical-align: top;\n",
       "    }\n",
       "\n",
       "    .dataframe thead th {\n",
       "        text-align: right;\n",
       "    }\n",
       "</style>\n",
       "<table border=\"1\" class=\"dataframe\">\n",
       "  <thead>\n",
       "    <tr style=\"text-align: right;\">\n",
       "      <th></th>\n",
       "      <th>NA_Percentage</th>\n",
       "    </tr>\n",
       "  </thead>\n",
       "  <tbody>\n",
       "    <tr>\n",
       "      <th>LotFrontage</th>\n",
       "      <td>17.739726</td>\n",
       "    </tr>\n",
       "    <tr>\n",
       "      <th>Alley</th>\n",
       "      <td>93.767123</td>\n",
       "    </tr>\n",
       "    <tr>\n",
       "      <th>MasVnrType</th>\n",
       "      <td>59.726027</td>\n",
       "    </tr>\n",
       "    <tr>\n",
       "      <th>MasVnrArea</th>\n",
       "      <td>0.547945</td>\n",
       "    </tr>\n",
       "    <tr>\n",
       "      <th>BsmtQual</th>\n",
       "      <td>2.534247</td>\n",
       "    </tr>\n",
       "    <tr>\n",
       "      <th>BsmtCond</th>\n",
       "      <td>2.534247</td>\n",
       "    </tr>\n",
       "    <tr>\n",
       "      <th>BsmtExposure</th>\n",
       "      <td>2.602740</td>\n",
       "    </tr>\n",
       "    <tr>\n",
       "      <th>BsmtFinType1</th>\n",
       "      <td>2.534247</td>\n",
       "    </tr>\n",
       "    <tr>\n",
       "      <th>BsmtFinType2</th>\n",
       "      <td>2.602740</td>\n",
       "    </tr>\n",
       "    <tr>\n",
       "      <th>Electrical</th>\n",
       "      <td>0.068493</td>\n",
       "    </tr>\n",
       "    <tr>\n",
       "      <th>FireplaceQu</th>\n",
       "      <td>47.260274</td>\n",
       "    </tr>\n",
       "    <tr>\n",
       "      <th>GarageType</th>\n",
       "      <td>5.547945</td>\n",
       "    </tr>\n",
       "    <tr>\n",
       "      <th>GarageYrBlt</th>\n",
       "      <td>5.547945</td>\n",
       "    </tr>\n",
       "    <tr>\n",
       "      <th>GarageFinish</th>\n",
       "      <td>5.547945</td>\n",
       "    </tr>\n",
       "    <tr>\n",
       "      <th>GarageQual</th>\n",
       "      <td>5.547945</td>\n",
       "    </tr>\n",
       "    <tr>\n",
       "      <th>GarageCond</th>\n",
       "      <td>5.547945</td>\n",
       "    </tr>\n",
       "    <tr>\n",
       "      <th>PoolQC</th>\n",
       "      <td>99.520548</td>\n",
       "    </tr>\n",
       "    <tr>\n",
       "      <th>Fence</th>\n",
       "      <td>80.753425</td>\n",
       "    </tr>\n",
       "    <tr>\n",
       "      <th>MiscFeature</th>\n",
       "      <td>96.301370</td>\n",
       "    </tr>\n",
       "  </tbody>\n",
       "</table>\n",
       "</div>"
      ],
      "text/plain": [
       "              NA_Percentage\n",
       "LotFrontage       17.739726\n",
       "Alley             93.767123\n",
       "MasVnrType        59.726027\n",
       "MasVnrArea         0.547945\n",
       "BsmtQual           2.534247\n",
       "BsmtCond           2.534247\n",
       "BsmtExposure       2.602740\n",
       "BsmtFinType1       2.534247\n",
       "BsmtFinType2       2.602740\n",
       "Electrical         0.068493\n",
       "FireplaceQu       47.260274\n",
       "GarageType         5.547945\n",
       "GarageYrBlt        5.547945\n",
       "GarageFinish       5.547945\n",
       "GarageQual         5.547945\n",
       "GarageCond         5.547945\n",
       "PoolQC            99.520548\n",
       "Fence             80.753425\n",
       "MiscFeature       96.301370"
      ]
     },
     "execution_count": 4,
     "metadata": {},
     "output_type": "execute_result"
    }
   ],
   "source": [
    "feature_dict=(data.isna().sum()/len(data)*100)\n",
    "\n",
    "feature_df=pd.DataFrame(feature_dict,columns=['NA_Percentage'])\n",
    "na_features=list(feature_df[feature_df['NA_Percentage']>0].index)\n",
    "feature_df[feature_df['NA_Percentage']>0]"
   ]
  },
  {
   "cell_type": "code",
   "execution_count": 5,
   "id": "8b856330",
   "metadata": {},
   "outputs": [
    {
     "data": {
      "text/plain": [
       "['LotFrontage',\n",
       " 'Alley',\n",
       " 'MasVnrType',\n",
       " 'MasVnrArea',\n",
       " 'BsmtQual',\n",
       " 'BsmtCond',\n",
       " 'BsmtExposure',\n",
       " 'BsmtFinType1',\n",
       " 'BsmtFinType2',\n",
       " 'Electrical',\n",
       " 'FireplaceQu',\n",
       " 'GarageType',\n",
       " 'GarageYrBlt',\n",
       " 'GarageFinish',\n",
       " 'GarageQual',\n",
       " 'GarageCond',\n",
       " 'PoolQC',\n",
       " 'Fence',\n",
       " 'MiscFeature']"
      ]
     },
     "execution_count": 5,
     "metadata": {},
     "output_type": "execute_result"
    }
   ],
   "source": [
    "na_features"
   ]
  },
  {
   "cell_type": "code",
   "execution_count": 6,
   "id": "f38f444d",
   "metadata": {},
   "outputs": [
    {
     "data": {
      "text/plain": [
       "Alley\n",
       "No Alley    1369\n",
       "Grvl          50\n",
       "Pave          41\n",
       "Name: count, dtype: int64"
      ]
     },
     "execution_count": 6,
     "metadata": {},
     "output_type": "execute_result"
    }
   ],
   "source": [
    "data['Alley'].fillna('No Alley',inplace=True)\n",
    "data['Alley'].value_counts()"
   ]
  },
  {
   "cell_type": "code",
   "execution_count": 7,
   "id": "7d523cff",
   "metadata": {},
   "outputs": [
    {
     "data": {
      "text/plain": [
       "MasVnrType\n",
       "No Masonry    872\n",
       "BrkFace       445\n",
       "Stone         128\n",
       "BrkCmn         15\n",
       "Name: count, dtype: int64"
      ]
     },
     "execution_count": 7,
     "metadata": {},
     "output_type": "execute_result"
    }
   ],
   "source": [
    "data['MasVnrType'].fillna('No Masonry',inplace=True)\n",
    "data['MasVnrType'].value_counts()"
   ]
  },
  {
   "cell_type": "code",
   "execution_count": 8,
   "id": "971deaf0",
   "metadata": {},
   "outputs": [
    {
     "data": {
      "text/plain": [
       "BsmtQual\n",
       "TA             649\n",
       "Gd             618\n",
       "Ex             121\n",
       "No Basement     37\n",
       "Fa              35\n",
       "Name: count, dtype: int64"
      ]
     },
     "execution_count": 8,
     "metadata": {},
     "output_type": "execute_result"
    }
   ],
   "source": [
    "data['BsmtQual'].fillna('No Basement',inplace=True)\n",
    "data['BsmtQual'].value_counts()"
   ]
  },
  {
   "cell_type": "code",
   "execution_count": 9,
   "id": "c80aed5e",
   "metadata": {},
   "outputs": [
    {
     "data": {
      "text/plain": [
       "BsmtCond\n",
       "TA             1311\n",
       "Gd               65\n",
       "Fa               45\n",
       "No Basement      37\n",
       "Po                2\n",
       "Name: count, dtype: int64"
      ]
     },
     "execution_count": 9,
     "metadata": {},
     "output_type": "execute_result"
    }
   ],
   "source": [
    "data['BsmtCond'].fillna('No Basement',inplace=True)\n",
    "data['BsmtCond'].value_counts()"
   ]
  },
  {
   "cell_type": "code",
   "execution_count": 10,
   "id": "c3834631",
   "metadata": {},
   "outputs": [
    {
     "data": {
      "text/plain": [
       "BsmtExposure\n",
       "No             953\n",
       "Av             221\n",
       "Gd             134\n",
       "Mn             114\n",
       "No Basement     38\n",
       "Name: count, dtype: int64"
      ]
     },
     "execution_count": 10,
     "metadata": {},
     "output_type": "execute_result"
    }
   ],
   "source": [
    "data['BsmtExposure'].fillna('No Basement',inplace=True)\n",
    "data['BsmtExposure'].value_counts()"
   ]
  },
  {
   "cell_type": "code",
   "execution_count": 11,
   "id": "c3c46f0e",
   "metadata": {},
   "outputs": [
    {
     "data": {
      "text/plain": [
       "BsmtFinType1\n",
       "Unf            430\n",
       "GLQ            418\n",
       "ALQ            220\n",
       "BLQ            148\n",
       "Rec            133\n",
       "LwQ             74\n",
       "No Basement     37\n",
       "Name: count, dtype: int64"
      ]
     },
     "execution_count": 11,
     "metadata": {},
     "output_type": "execute_result"
    }
   ],
   "source": [
    "data['BsmtFinType1'].fillna('No Basement',inplace=True)\n",
    "data['BsmtFinType1'].value_counts()"
   ]
  },
  {
   "cell_type": "code",
   "execution_count": 12,
   "id": "d17504db",
   "metadata": {},
   "outputs": [
    {
     "data": {
      "text/plain": [
       "BsmtFinType2\n",
       "Unf            1256\n",
       "Rec              54\n",
       "LwQ              46\n",
       "No Basement      38\n",
       "BLQ              33\n",
       "ALQ              19\n",
       "GLQ              14\n",
       "Name: count, dtype: int64"
      ]
     },
     "execution_count": 12,
     "metadata": {},
     "output_type": "execute_result"
    }
   ],
   "source": [
    "data['BsmtFinType2'].fillna('No Basement',inplace=True)\n",
    "data['BsmtFinType2'].value_counts()"
   ]
  },
  {
   "cell_type": "code",
   "execution_count": 13,
   "id": "6bab646f",
   "metadata": {},
   "outputs": [
    {
     "data": {
      "text/plain": [
       "FireplaceQu\n",
       "No Fireplace    690\n",
       "Gd              380\n",
       "TA              313\n",
       "Fa               33\n",
       "Ex               24\n",
       "Po               20\n",
       "Name: count, dtype: int64"
      ]
     },
     "execution_count": 13,
     "metadata": {},
     "output_type": "execute_result"
    }
   ],
   "source": [
    "data['FireplaceQu'].fillna('No Fireplace',inplace=True)\n",
    "data['FireplaceQu'].value_counts()"
   ]
  },
  {
   "cell_type": "code",
   "execution_count": 14,
   "id": "3c785b8c",
   "metadata": {},
   "outputs": [
    {
     "data": {
      "text/plain": [
       "GarageType\n",
       "Attchd       870\n",
       "Detchd       387\n",
       "BuiltIn       88\n",
       "No Garage     81\n",
       "Basment       19\n",
       "CarPort        9\n",
       "2Types         6\n",
       "Name: count, dtype: int64"
      ]
     },
     "execution_count": 14,
     "metadata": {},
     "output_type": "execute_result"
    }
   ],
   "source": [
    "data['GarageType'].fillna('No Garage',inplace=True)\n",
    "data['GarageType'].value_counts()"
   ]
  },
  {
   "cell_type": "code",
   "execution_count": 15,
   "id": "c584939a",
   "metadata": {},
   "outputs": [
    {
     "data": {
      "text/plain": [
       "GarageYrBlt\n",
       "0         81\n",
       "2005.0    65\n",
       "2006.0    59\n",
       "2004.0    53\n",
       "2003.0    50\n",
       "          ..\n",
       "1927.0     1\n",
       "1900.0     1\n",
       "1906.0     1\n",
       "1908.0     1\n",
       "1933.0     1\n",
       "Name: count, Length: 98, dtype: int64"
      ]
     },
     "execution_count": 15,
     "metadata": {},
     "output_type": "execute_result"
    }
   ],
   "source": [
    "data['GarageYrBlt'].fillna('0',inplace=True)\n",
    "data['GarageYrBlt'].value_counts()"
   ]
  },
  {
   "cell_type": "code",
   "execution_count": 16,
   "id": "c62e3f04",
   "metadata": {},
   "outputs": [
    {
     "data": {
      "text/plain": [
       "GarageFinish\n",
       "Unf          605\n",
       "RFn          422\n",
       "Fin          352\n",
       "No Garage     81\n",
       "Name: count, dtype: int64"
      ]
     },
     "execution_count": 16,
     "metadata": {},
     "output_type": "execute_result"
    }
   ],
   "source": [
    "data['GarageFinish'].fillna('No Garage',inplace=True)\n",
    "data['GarageFinish'].value_counts()"
   ]
  },
  {
   "cell_type": "code",
   "execution_count": 17,
   "id": "d20b7093",
   "metadata": {},
   "outputs": [
    {
     "data": {
      "text/plain": [
       "GarageQual\n",
       "TA           1311\n",
       "No Garage      81\n",
       "Fa             48\n",
       "Gd             14\n",
       "Ex              3\n",
       "Po              3\n",
       "Name: count, dtype: int64"
      ]
     },
     "execution_count": 17,
     "metadata": {},
     "output_type": "execute_result"
    }
   ],
   "source": [
    "data['GarageQual'].fillna('No Garage',inplace=True)\n",
    "data['GarageQual'].value_counts()\n"
   ]
  },
  {
   "cell_type": "code",
   "execution_count": 18,
   "id": "10d0d575",
   "metadata": {},
   "outputs": [
    {
     "data": {
      "text/plain": [
       "GarageCond\n",
       "TA           1326\n",
       "No Garage      81\n",
       "Fa             35\n",
       "Gd              9\n",
       "Po              7\n",
       "Ex              2\n",
       "Name: count, dtype: int64"
      ]
     },
     "execution_count": 18,
     "metadata": {},
     "output_type": "execute_result"
    }
   ],
   "source": [
    "data['GarageCond'].fillna('No Garage',inplace=True)\n",
    "data['GarageCond'].value_counts()\n"
   ]
  },
  {
   "cell_type": "code",
   "execution_count": 19,
   "id": "075eb817",
   "metadata": {},
   "outputs": [
    {
     "data": {
      "text/plain": [
       "PoolQC\n",
       "No Pool    1453\n",
       "Gd            3\n",
       "Ex            2\n",
       "Fa            2\n",
       "Name: count, dtype: int64"
      ]
     },
     "execution_count": 19,
     "metadata": {},
     "output_type": "execute_result"
    }
   ],
   "source": [
    "data['PoolQC'].fillna('No Pool',inplace=True)\n",
    "data['PoolQC'].value_counts()\n"
   ]
  },
  {
   "cell_type": "code",
   "execution_count": 20,
   "id": "ff4dcddc",
   "metadata": {},
   "outputs": [
    {
     "data": {
      "text/plain": [
       "Fence\n",
       "No Fence    1179\n",
       "MnPrv        157\n",
       "GdPrv         59\n",
       "GdWo          54\n",
       "MnWw          11\n",
       "Name: count, dtype: int64"
      ]
     },
     "execution_count": 20,
     "metadata": {},
     "output_type": "execute_result"
    }
   ],
   "source": [
    "data['Fence'].fillna('No Fence',inplace=True)\n",
    "data['Fence'].value_counts()"
   ]
  },
  {
   "cell_type": "code",
   "execution_count": 21,
   "id": "10a472c6",
   "metadata": {},
   "outputs": [
    {
     "data": {
      "text/plain": [
       "MiscFeature\n",
       "None    1406\n",
       "Shed      49\n",
       "Gar2       2\n",
       "Othr       2\n",
       "TenC       1\n",
       "Name: count, dtype: int64"
      ]
     },
     "execution_count": 21,
     "metadata": {},
     "output_type": "execute_result"
    }
   ],
   "source": [
    "data['MiscFeature'].fillna('None',inplace=True)\n",
    "data['MiscFeature'].value_counts()"
   ]
  },
  {
   "cell_type": "code",
   "execution_count": 22,
   "id": "8cae6cb7",
   "metadata": {},
   "outputs": [
    {
     "data": {
      "text/html": [
       "<div>\n",
       "<style scoped>\n",
       "    .dataframe tbody tr th:only-of-type {\n",
       "        vertical-align: middle;\n",
       "    }\n",
       "\n",
       "    .dataframe tbody tr th {\n",
       "        vertical-align: top;\n",
       "    }\n",
       "\n",
       "    .dataframe thead th {\n",
       "        text-align: right;\n",
       "    }\n",
       "</style>\n",
       "<table border=\"1\" class=\"dataframe\">\n",
       "  <thead>\n",
       "    <tr style=\"text-align: right;\">\n",
       "      <th></th>\n",
       "      <th>NA_Percentage</th>\n",
       "    </tr>\n",
       "  </thead>\n",
       "  <tbody>\n",
       "    <tr>\n",
       "      <th>LotFrontage</th>\n",
       "      <td>17.739726</td>\n",
       "    </tr>\n",
       "    <tr>\n",
       "      <th>MasVnrArea</th>\n",
       "      <td>0.547945</td>\n",
       "    </tr>\n",
       "    <tr>\n",
       "      <th>Electrical</th>\n",
       "      <td>0.068493</td>\n",
       "    </tr>\n",
       "  </tbody>\n",
       "</table>\n",
       "</div>"
      ],
      "text/plain": [
       "             NA_Percentage\n",
       "LotFrontage      17.739726\n",
       "MasVnrArea        0.547945\n",
       "Electrical        0.068493"
      ]
     },
     "execution_count": 22,
     "metadata": {},
     "output_type": "execute_result"
    }
   ],
   "source": [
    "feature_dict=(data.isna().sum()/len(data)*100)\n",
    "\n",
    "feature_df=pd.DataFrame(feature_dict,columns=['NA_Percentage'])\n",
    "na_features=list(feature_df[feature_df['NA_Percentage']>0].index)\n",
    "feature_df[feature_df['NA_Percentage']>0]"
   ]
  },
  {
   "cell_type": "code",
   "execution_count": 23,
   "id": "ec0bafa9",
   "metadata": {},
   "outputs": [
    {
     "data": {
      "text/plain": [
       "MasVnrType\n",
       "No Masonry    872\n",
       "BrkFace       445\n",
       "Stone         128\n",
       "BrkCmn         15\n",
       "Name: count, dtype: int64"
      ]
     },
     "execution_count": 23,
     "metadata": {},
     "output_type": "execute_result"
    }
   ],
   "source": [
    "data['MasVnrType'].value_counts()"
   ]
  },
  {
   "cell_type": "code",
   "execution_count": 24,
   "id": "c944e212",
   "metadata": {},
   "outputs": [
    {
     "data": {
      "text/html": [
       "<div>\n",
       "<style scoped>\n",
       "    .dataframe tbody tr th:only-of-type {\n",
       "        vertical-align: middle;\n",
       "    }\n",
       "\n",
       "    .dataframe tbody tr th {\n",
       "        vertical-align: top;\n",
       "    }\n",
       "\n",
       "    .dataframe thead th {\n",
       "        text-align: right;\n",
       "    }\n",
       "</style>\n",
       "<table border=\"1\" class=\"dataframe\">\n",
       "  <thead>\n",
       "    <tr style=\"text-align: right;\">\n",
       "      <th></th>\n",
       "      <th>MasVnrArea</th>\n",
       "      <th>MasVnrType</th>\n",
       "    </tr>\n",
       "    <tr>\n",
       "      <th>Id</th>\n",
       "      <th></th>\n",
       "      <th></th>\n",
       "    </tr>\n",
       "  </thead>\n",
       "  <tbody>\n",
       "    <tr>\n",
       "      <th>235</th>\n",
       "      <td>NaN</td>\n",
       "      <td>No Masonry</td>\n",
       "    </tr>\n",
       "    <tr>\n",
       "      <th>530</th>\n",
       "      <td>NaN</td>\n",
       "      <td>No Masonry</td>\n",
       "    </tr>\n",
       "    <tr>\n",
       "      <th>651</th>\n",
       "      <td>NaN</td>\n",
       "      <td>No Masonry</td>\n",
       "    </tr>\n",
       "    <tr>\n",
       "      <th>937</th>\n",
       "      <td>NaN</td>\n",
       "      <td>No Masonry</td>\n",
       "    </tr>\n",
       "    <tr>\n",
       "      <th>974</th>\n",
       "      <td>NaN</td>\n",
       "      <td>No Masonry</td>\n",
       "    </tr>\n",
       "    <tr>\n",
       "      <th>978</th>\n",
       "      <td>NaN</td>\n",
       "      <td>No Masonry</td>\n",
       "    </tr>\n",
       "    <tr>\n",
       "      <th>1244</th>\n",
       "      <td>NaN</td>\n",
       "      <td>No Masonry</td>\n",
       "    </tr>\n",
       "    <tr>\n",
       "      <th>1279</th>\n",
       "      <td>NaN</td>\n",
       "      <td>No Masonry</td>\n",
       "    </tr>\n",
       "  </tbody>\n",
       "</table>\n",
       "</div>"
      ],
      "text/plain": [
       "      MasVnrArea  MasVnrType\n",
       "Id                          \n",
       "235          NaN  No Masonry\n",
       "530          NaN  No Masonry\n",
       "651          NaN  No Masonry\n",
       "937          NaN  No Masonry\n",
       "974          NaN  No Masonry\n",
       "978          NaN  No Masonry\n",
       "1244         NaN  No Masonry\n",
       "1279         NaN  No Masonry"
      ]
     },
     "execution_count": 24,
     "metadata": {},
     "output_type": "execute_result"
    }
   ],
   "source": [
    "sub=data[['MasVnrArea','MasVnrType']]\n",
    "sub[sub['MasVnrArea'].isna()]\n"
   ]
  },
  {
   "cell_type": "code",
   "execution_count": 25,
   "id": "8bc45b30",
   "metadata": {},
   "outputs": [
    {
     "data": {
      "text/plain": [
       "0"
      ]
     },
     "execution_count": 25,
     "metadata": {},
     "output_type": "execute_result"
    }
   ],
   "source": [
    "data['MasVnrArea'].fillna(0.0,inplace=True)\n",
    "data['MasVnrArea'].isna().sum()"
   ]
  },
  {
   "cell_type": "code",
   "execution_count": 26,
   "id": "fb762b07",
   "metadata": {},
   "outputs": [
    {
     "data": {
      "text/plain": [
       "0"
      ]
     },
     "execution_count": 26,
     "metadata": {},
     "output_type": "execute_result"
    }
   ],
   "source": [
    "data.dropna(subset=['Electrical'],inplace=True)\n",
    "data['Electrical'].isna().sum()"
   ]
  },
  {
   "cell_type": "code",
   "execution_count": 27,
   "id": "460327d9",
   "metadata": {},
   "outputs": [
    {
     "data": {
      "text/html": [
       "<div>\n",
       "<style scoped>\n",
       "    .dataframe tbody tr th:only-of-type {\n",
       "        vertical-align: middle;\n",
       "    }\n",
       "\n",
       "    .dataframe tbody tr th {\n",
       "        vertical-align: top;\n",
       "    }\n",
       "\n",
       "    .dataframe thead th {\n",
       "        text-align: right;\n",
       "    }\n",
       "</style>\n",
       "<table border=\"1\" class=\"dataframe\">\n",
       "  <thead>\n",
       "    <tr style=\"text-align: right;\">\n",
       "      <th></th>\n",
       "      <th>NA_Percentage</th>\n",
       "    </tr>\n",
       "  </thead>\n",
       "  <tbody>\n",
       "    <tr>\n",
       "      <th>LotFrontage</th>\n",
       "      <td>17.751885</td>\n",
       "    </tr>\n",
       "  </tbody>\n",
       "</table>\n",
       "</div>"
      ],
      "text/plain": [
       "             NA_Percentage\n",
       "LotFrontage      17.751885"
      ]
     },
     "execution_count": 27,
     "metadata": {},
     "output_type": "execute_result"
    }
   ],
   "source": [
    "feature_dict=(data.isna().sum()/len(data)*100)\n",
    "\n",
    "feature_df=pd.DataFrame(feature_dict,columns=['NA_Percentage'])\n",
    "na_features=list(feature_df[feature_df['NA_Percentage']>0].index)\n",
    "feature_df[feature_df['NA_Percentage']>0]"
   ]
  },
  {
   "cell_type": "code",
   "execution_count": 28,
   "id": "d316cb89",
   "metadata": {},
   "outputs": [
    {
     "data": {
      "text/plain": [
       "MSZoning\n",
       "RL         1150\n",
       "RM          218\n",
       "FV           65\n",
       "RH           16\n",
       "C (all)      10\n",
       "Name: count, dtype: int64"
      ]
     },
     "execution_count": 28,
     "metadata": {},
     "output_type": "execute_result"
    }
   ],
   "source": [
    "sub=data[['MSSubClass','MSZoning','LotFrontage']]\n",
    "\n",
    "#sub[sub['LotFrontage'].isna()]\n",
    "sub['MSZoning'].value_counts()"
   ]
  },
  {
   "cell_type": "code",
   "execution_count": 29,
   "id": "552782b1",
   "metadata": {},
   "outputs": [
    {
     "data": {
      "text/plain": [
       "['LotFrontage',\n",
       " 'LotArea',\n",
       " 'OverallQual',\n",
       " 'OverallCond',\n",
       " 'YearBuilt',\n",
       " 'YearRemodAdd',\n",
       " 'MasVnrArea',\n",
       " 'BsmtFinSF1',\n",
       " 'BsmtFinSF2',\n",
       " 'BsmtUnfSF',\n",
       " 'TotalBsmtSF',\n",
       " '1stFlrSF',\n",
       " '2ndFlrSF',\n",
       " 'LowQualFinSF',\n",
       " 'GrLivArea',\n",
       " 'BsmtFullBath',\n",
       " 'BsmtHalfBath',\n",
       " 'FullBath',\n",
       " 'HalfBath',\n",
       " 'BedroomAbvGr',\n",
       " 'KitchenAbvGr',\n",
       " 'TotRmsAbvGrd',\n",
       " 'Fireplaces',\n",
       " 'GarageCars',\n",
       " 'GarageArea',\n",
       " 'WoodDeckSF',\n",
       " 'OpenPorchSF',\n",
       " 'EnclosedPorch',\n",
       " '3SsnPorch',\n",
       " 'ScreenPorch',\n",
       " 'PoolArea',\n",
       " 'MiscVal',\n",
       " 'MoSold',\n",
       " 'YrSold',\n",
       " 'SalePrice',\n",
       " 'GarageYrBlt']"
      ]
     },
     "execution_count": 29,
     "metadata": {},
     "output_type": "execute_result"
    }
   ],
   "source": [
    "num_variables=list(data.describe().columns)\n",
    "num_variables\n",
    "a=set(data.columns)\n",
    "b=set(data.describe().columns)\n",
    "cat_variables=list(a-b)\n",
    "cat_variables.append('MSSubClass')\n",
    "num_variables.remove('MSSubClass')\n",
    "num_variables.append('GarageYrBlt')\n",
    "cat_variables.remove('GarageYrBlt')\n",
    "\n",
    "\n",
    "num_variables\n"
   ]
  },
  {
   "cell_type": "code",
   "execution_count": 30,
   "id": "54584157",
   "metadata": {},
   "outputs": [],
   "source": [
    "data['MSSubClass']=data['MSSubClass'].map({\n",
    "        20:'1-STORY 1946 & NEWER ALL STYLES',\n",
    "        30:'1-STORY 1945 & OLDER',\n",
    "        40:'1-STORY W/FINISHED ATTIC ALL AGES',\n",
    "        45:'1-1/2 STORY - UNFINISHED ALL AGES',\n",
    "        50:'1-1/2 STORY FINISHED ALL AGES',\n",
    "        60:'2-STORY 1946 & NEWER',\n",
    "        70:'2-STORY 1945 & OLDER',\n",
    "        75:'2-1/2 STORY ALL AGES',\n",
    "        80:'SPLIT OR MULTI-LEVEL',\n",
    "        85:'SPLIT FOYER',\n",
    "        90:'DUPLEX - ALL STYLES AND AGES',\n",
    "       120:'1-STORY PUD (Planned Unit Development) - 1946 & NEWER',\n",
    "       150:'1-1/2 STORY PUD - ALL AGES',\n",
    "       160:'2-STORY PUD - 1946 & NEWER',\n",
    "       180:'PUD - MULTILEVEL - INCL SPLIT LEV/FOYER',\n",
    "       190:'2 FAMILY CONVERSION - ALL STYLES AND AGES'})"
   ]
  },
  {
   "cell_type": "code",
   "execution_count": 31,
   "id": "c659f5fa",
   "metadata": {},
   "outputs": [],
   "source": [
    "data[\"LotFrontage\"]= data.groupby(\"MSZoning\")[\"LotFrontage\"].transform(lambda x: x.fillna(x.mode().iloc[0]))\n"
   ]
  },
  {
   "cell_type": "code",
   "execution_count": 32,
   "id": "a289dc7c",
   "metadata": {},
   "outputs": [],
   "source": [
    "dummy=pd.get_dummies(data[cat_variables],dtype=float,drop_first=True)\n",
    "dummy\n",
    "data2=pd.concat([data,dummy],axis=1)\n"
   ]
  },
  {
   "cell_type": "code",
   "execution_count": 33,
   "id": "8a785e65",
   "metadata": {},
   "outputs": [],
   "source": [
    "data2.drop(cat_variables,axis=1,inplace=True)"
   ]
  },
  {
   "cell_type": "code",
   "execution_count": 34,
   "id": "9f9414b1",
   "metadata": {},
   "outputs": [
    {
     "name": "stdout",
     "output_type": "stream",
     "text": [
      "<class 'pandas.core.frame.DataFrame'>\n",
      "Index: 1459 entries, 1 to 1460\n",
      "Data columns (total 273 columns):\n",
      " #    Column                                                            Dtype  \n",
      "---   ------                                                            -----  \n",
      " 0    LotFrontage                                                       float64\n",
      " 1    LotArea                                                           int64  \n",
      " 2    OverallQual                                                       int64  \n",
      " 3    OverallCond                                                       int64  \n",
      " 4    YearBuilt                                                         int64  \n",
      " 5    YearRemodAdd                                                      int64  \n",
      " 6    MasVnrArea                                                        float64\n",
      " 7    BsmtFinSF1                                                        int64  \n",
      " 8    BsmtFinSF2                                                        int64  \n",
      " 9    BsmtUnfSF                                                         int64  \n",
      " 10   TotalBsmtSF                                                       int64  \n",
      " 11   1stFlrSF                                                          int64  \n",
      " 12   2ndFlrSF                                                          int64  \n",
      " 13   LowQualFinSF                                                      int64  \n",
      " 14   GrLivArea                                                         int64  \n",
      " 15   BsmtFullBath                                                      int64  \n",
      " 16   BsmtHalfBath                                                      int64  \n",
      " 17   FullBath                                                          int64  \n",
      " 18   HalfBath                                                          int64  \n",
      " 19   BedroomAbvGr                                                      int64  \n",
      " 20   KitchenAbvGr                                                      int64  \n",
      " 21   TotRmsAbvGrd                                                      int64  \n",
      " 22   Fireplaces                                                        int64  \n",
      " 23   GarageYrBlt                                                       object \n",
      " 24   GarageCars                                                        int64  \n",
      " 25   GarageArea                                                        int64  \n",
      " 26   WoodDeckSF                                                        int64  \n",
      " 27   OpenPorchSF                                                       int64  \n",
      " 28   EnclosedPorch                                                     int64  \n",
      " 29   3SsnPorch                                                         int64  \n",
      " 30   ScreenPorch                                                       int64  \n",
      " 31   PoolArea                                                          int64  \n",
      " 32   MiscVal                                                           int64  \n",
      " 33   MoSold                                                            int64  \n",
      " 34   YrSold                                                            int64  \n",
      " 35   SalePrice                                                         int64  \n",
      " 36   BsmtFinType1_BLQ                                                  float64\n",
      " 37   BsmtFinType1_GLQ                                                  float64\n",
      " 38   BsmtFinType1_LwQ                                                  float64\n",
      " 39   BsmtFinType1_No Basement                                          float64\n",
      " 40   BsmtFinType1_Rec                                                  float64\n",
      " 41   BsmtFinType1_Unf                                                  float64\n",
      " 42   Condition2_Feedr                                                  float64\n",
      " 43   Condition2_Norm                                                   float64\n",
      " 44   Condition2_PosA                                                   float64\n",
      " 45   Condition2_PosN                                                   float64\n",
      " 46   Condition2_RRAe                                                   float64\n",
      " 47   Condition2_RRAn                                                   float64\n",
      " 48   Condition2_RRNn                                                   float64\n",
      " 49   Street_Pave                                                       float64\n",
      " 50   Functional_Maj2                                                   float64\n",
      " 51   Functional_Min1                                                   float64\n",
      " 52   Functional_Min2                                                   float64\n",
      " 53   Functional_Mod                                                    float64\n",
      " 54   Functional_Sev                                                    float64\n",
      " 55   Functional_Typ                                                    float64\n",
      " 56   Exterior2nd_AsphShn                                               float64\n",
      " 57   Exterior2nd_Brk Cmn                                               float64\n",
      " 58   Exterior2nd_BrkFace                                               float64\n",
      " 59   Exterior2nd_CBlock                                                float64\n",
      " 60   Exterior2nd_CmentBd                                               float64\n",
      " 61   Exterior2nd_HdBoard                                               float64\n",
      " 62   Exterior2nd_ImStucc                                               float64\n",
      " 63   Exterior2nd_MetalSd                                               float64\n",
      " 64   Exterior2nd_Other                                                 float64\n",
      " 65   Exterior2nd_Plywood                                               float64\n",
      " 66   Exterior2nd_Stone                                                 float64\n",
      " 67   Exterior2nd_Stucco                                                float64\n",
      " 68   Exterior2nd_VinylSd                                               float64\n",
      " 69   Exterior2nd_Wd Sdng                                               float64\n",
      " 70   Exterior2nd_Wd Shng                                               float64\n",
      " 71   Electrical_FuseF                                                  float64\n",
      " 72   Electrical_FuseP                                                  float64\n",
      " 73   Electrical_Mix                                                    float64\n",
      " 74   Electrical_SBrkr                                                  float64\n",
      " 75   Utilities_NoSeWa                                                  float64\n",
      " 76   BsmtFinType2_BLQ                                                  float64\n",
      " 77   BsmtFinType2_GLQ                                                  float64\n",
      " 78   BsmtFinType2_LwQ                                                  float64\n",
      " 79   BsmtFinType2_No Basement                                          float64\n",
      " 80   BsmtFinType2_Rec                                                  float64\n",
      " 81   BsmtFinType2_Unf                                                  float64\n",
      " 82   PavedDrive_P                                                      float64\n",
      " 83   PavedDrive_Y                                                      float64\n",
      " 84   PoolQC_Fa                                                         float64\n",
      " 85   PoolQC_Gd                                                         float64\n",
      " 86   PoolQC_No Pool                                                    float64\n",
      " 87   FireplaceQu_Fa                                                    float64\n",
      " 88   FireplaceQu_Gd                                                    float64\n",
      " 89   FireplaceQu_No Fireplace                                          float64\n",
      " 90   FireplaceQu_Po                                                    float64\n",
      " 91   FireplaceQu_TA                                                    float64\n",
      " 92   Condition1_Feedr                                                  float64\n",
      " 93   Condition1_Norm                                                   float64\n",
      " 94   Condition1_PosA                                                   float64\n",
      " 95   Condition1_PosN                                                   float64\n",
      " 96   Condition1_RRAe                                                   float64\n",
      " 97   Condition1_RRAn                                                   float64\n",
      " 98   Condition1_RRNe                                                   float64\n",
      " 99   Condition1_RRNn                                                   float64\n",
      " 100  BldgType_2fmCon                                                   float64\n",
      " 101  BldgType_Duplex                                                   float64\n",
      " 102  BldgType_Twnhs                                                    float64\n",
      " 103  BldgType_TwnhsE                                                   float64\n",
      " 104  LandSlope_Mod                                                     float64\n",
      " 105  LandSlope_Sev                                                     float64\n",
      " 106  Neighborhood_Blueste                                              float64\n",
      " 107  Neighborhood_BrDale                                               float64\n",
      " 108  Neighborhood_BrkSide                                              float64\n",
      " 109  Neighborhood_ClearCr                                              float64\n",
      " 110  Neighborhood_CollgCr                                              float64\n",
      " 111  Neighborhood_Crawfor                                              float64\n",
      " 112  Neighborhood_Edwards                                              float64\n",
      " 113  Neighborhood_Gilbert                                              float64\n",
      " 114  Neighborhood_IDOTRR                                               float64\n",
      " 115  Neighborhood_MeadowV                                              float64\n",
      " 116  Neighborhood_Mitchel                                              float64\n",
      " 117  Neighborhood_NAmes                                                float64\n",
      " 118  Neighborhood_NPkVill                                              float64\n",
      " 119  Neighborhood_NWAmes                                               float64\n",
      " 120  Neighborhood_NoRidge                                              float64\n",
      " 121  Neighborhood_NridgHt                                              float64\n",
      " 122  Neighborhood_OldTown                                              float64\n",
      " 123  Neighborhood_SWISU                                                float64\n",
      " 124  Neighborhood_Sawyer                                               float64\n",
      " 125  Neighborhood_SawyerW                                              float64\n",
      " 126  Neighborhood_Somerst                                              float64\n",
      " 127  Neighborhood_StoneBr                                              float64\n",
      " 128  Neighborhood_Timber                                               float64\n",
      " 129  Neighborhood_Veenker                                              float64\n",
      " 130  ExterQual_Fa                                                      float64\n",
      " 131  ExterQual_Gd                                                      float64\n",
      " 132  ExterQual_TA                                                      float64\n",
      " 133  Heating_GasA                                                      float64\n",
      " 134  Heating_GasW                                                      float64\n",
      " 135  Heating_Grav                                                      float64\n",
      " 136  Heating_OthW                                                      float64\n",
      " 137  Heating_Wall                                                      float64\n",
      " 138  MiscFeature_None                                                  float64\n",
      " 139  MiscFeature_Othr                                                  float64\n",
      " 140  MiscFeature_Shed                                                  float64\n",
      " 141  MiscFeature_TenC                                                  float64\n",
      " 142  SaleCondition_AdjLand                                             float64\n",
      " 143  SaleCondition_Alloca                                              float64\n",
      " 144  SaleCondition_Family                                              float64\n",
      " 145  SaleCondition_Normal                                              float64\n",
      " 146  SaleCondition_Partial                                             float64\n",
      " 147  BsmtCond_Gd                                                       float64\n",
      " 148  BsmtCond_No Basement                                              float64\n",
      " 149  BsmtCond_Po                                                       float64\n",
      " 150  BsmtCond_TA                                                       float64\n",
      " 151  KitchenQual_Fa                                                    float64\n",
      " 152  KitchenQual_Gd                                                    float64\n",
      " 153  KitchenQual_TA                                                    float64\n",
      " 154  LotShape_IR2                                                      float64\n",
      " 155  LotShape_IR3                                                      float64\n",
      " 156  LotShape_Reg                                                      float64\n",
      " 157  Alley_No Alley                                                    float64\n",
      " 158  Alley_Pave                                                        float64\n",
      " 159  RoofStyle_Gable                                                   float64\n",
      " 160  RoofStyle_Gambrel                                                 float64\n",
      " 161  RoofStyle_Hip                                                     float64\n",
      " 162  RoofStyle_Mansard                                                 float64\n",
      " 163  RoofStyle_Shed                                                    float64\n",
      " 164  BsmtExposure_Gd                                                   float64\n",
      " 165  BsmtExposure_Mn                                                   float64\n",
      " 166  BsmtExposure_No                                                   float64\n",
      " 167  BsmtExposure_No Basement                                          float64\n",
      " 168  Foundation_CBlock                                                 float64\n",
      " 169  Foundation_PConc                                                  float64\n",
      " 170  Foundation_Slab                                                   float64\n",
      " 171  Foundation_Stone                                                  float64\n",
      " 172  Foundation_Wood                                                   float64\n",
      " 173  LandContour_HLS                                                   float64\n",
      " 174  LandContour_Low                                                   float64\n",
      " 175  LandContour_Lvl                                                   float64\n",
      " 176  GarageFinish_No Garage                                            float64\n",
      " 177  GarageFinish_RFn                                                  float64\n",
      " 178  GarageFinish_Unf                                                  float64\n",
      " 179  HeatingQC_Fa                                                      float64\n",
      " 180  HeatingQC_Gd                                                      float64\n",
      " 181  HeatingQC_Po                                                      float64\n",
      " 182  HeatingQC_TA                                                      float64\n",
      " 183  Exterior1st_AsphShn                                               float64\n",
      " 184  Exterior1st_BrkComm                                               float64\n",
      " 185  Exterior1st_BrkFace                                               float64\n",
      " 186  Exterior1st_CBlock                                                float64\n",
      " 187  Exterior1st_CemntBd                                               float64\n",
      " 188  Exterior1st_HdBoard                                               float64\n",
      " 189  Exterior1st_ImStucc                                               float64\n",
      " 190  Exterior1st_MetalSd                                               float64\n",
      " 191  Exterior1st_Plywood                                               float64\n",
      " 192  Exterior1st_Stone                                                 float64\n",
      " 193  Exterior1st_Stucco                                                float64\n",
      " 194  Exterior1st_VinylSd                                               float64\n",
      " 195  Exterior1st_Wd Sdng                                               float64\n",
      " 196  Exterior1st_WdShing                                               float64\n",
      " 197  GarageType_Attchd                                                 float64\n",
      " 198  GarageType_Basment                                                float64\n",
      " 199  GarageType_BuiltIn                                                float64\n",
      " 200  GarageType_CarPort                                                float64\n",
      " 201  GarageType_Detchd                                                 float64\n",
      " 202  GarageType_No Garage                                              float64\n",
      " 203  HouseStyle_1.5Unf                                                 float64\n",
      " 204  HouseStyle_1Story                                                 float64\n",
      " 205  HouseStyle_2.5Fin                                                 float64\n",
      " 206  HouseStyle_2.5Unf                                                 float64\n",
      " 207  HouseStyle_2Story                                                 float64\n",
      " 208  HouseStyle_SFoyer                                                 float64\n",
      " 209  HouseStyle_SLvl                                                   float64\n",
      " 210  GarageCond_Fa                                                     float64\n",
      " 211  GarageCond_Gd                                                     float64\n",
      " 212  GarageCond_No Garage                                              float64\n",
      " 213  GarageCond_Po                                                     float64\n",
      " 214  GarageCond_TA                                                     float64\n",
      " 215  LotConfig_CulDSac                                                 float64\n",
      " 216  LotConfig_FR2                                                     float64\n",
      " 217  LotConfig_FR3                                                     float64\n",
      " 218  LotConfig_Inside                                                  float64\n",
      " 219  GarageQual_Fa                                                     float64\n",
      " 220  GarageQual_Gd                                                     float64\n",
      " 221  GarageQual_No Garage                                              float64\n",
      " 222  GarageQual_Po                                                     float64\n",
      " 223  GarageQual_TA                                                     float64\n",
      " 224  ExterCond_Fa                                                      float64\n",
      " 225  ExterCond_Gd                                                      float64\n",
      " 226  ExterCond_Po                                                      float64\n",
      " 227  ExterCond_TA                                                      float64\n",
      " 228  BsmtQual_Fa                                                       float64\n",
      " 229  BsmtQual_Gd                                                       float64\n",
      " 230  BsmtQual_No Basement                                              float64\n",
      " 231  BsmtQual_TA                                                       float64\n",
      " 232  CentralAir_Y                                                      float64\n",
      " 233  MSZoning_FV                                                       float64\n",
      " 234  MSZoning_RH                                                       float64\n",
      " 235  MSZoning_RL                                                       float64\n",
      " 236  MSZoning_RM                                                       float64\n",
      " 237  RoofMatl_CompShg                                                  float64\n",
      " 238  RoofMatl_Membran                                                  float64\n",
      " 239  RoofMatl_Metal                                                    float64\n",
      " 240  RoofMatl_Roll                                                     float64\n",
      " 241  RoofMatl_Tar&Grv                                                  float64\n",
      " 242  RoofMatl_WdShake                                                  float64\n",
      " 243  RoofMatl_WdShngl                                                  float64\n",
      " 244  MasVnrType_BrkFace                                                float64\n",
      " 245  MasVnrType_No Masonry                                             float64\n",
      " 246  MasVnrType_Stone                                                  float64\n",
      " 247  Fence_GdWo                                                        float64\n",
      " 248  Fence_MnPrv                                                       float64\n",
      " 249  Fence_MnWw                                                        float64\n",
      " 250  Fence_No Fence                                                    float64\n",
      " 251  SaleType_CWD                                                      float64\n",
      " 252  SaleType_Con                                                      float64\n",
      " 253  SaleType_ConLD                                                    float64\n",
      " 254  SaleType_ConLI                                                    float64\n",
      " 255  SaleType_ConLw                                                    float64\n",
      " 256  SaleType_New                                                      float64\n",
      " 257  SaleType_Oth                                                      float64\n",
      " 258  SaleType_WD                                                       float64\n",
      " 259  MSSubClass_1-1/2 STORY FINISHED ALL AGES                          float64\n",
      " 260  MSSubClass_1-STORY 1945 & OLDER                                   float64\n",
      " 261  MSSubClass_1-STORY 1946 & NEWER ALL STYLES                        float64\n",
      " 262  MSSubClass_1-STORY PUD (Planned Unit Development) - 1946 & NEWER  float64\n",
      " 263  MSSubClass_1-STORY W/FINISHED ATTIC ALL AGES                      float64\n",
      " 264  MSSubClass_2 FAMILY CONVERSION - ALL STYLES AND AGES              float64\n",
      " 265  MSSubClass_2-1/2 STORY ALL AGES                                   float64\n",
      " 266  MSSubClass_2-STORY 1945 & OLDER                                   float64\n",
      " 267  MSSubClass_2-STORY 1946 & NEWER                                   float64\n",
      " 268  MSSubClass_2-STORY PUD - 1946 & NEWER                             float64\n",
      " 269  MSSubClass_DUPLEX - ALL STYLES AND AGES                           float64\n",
      " 270  MSSubClass_PUD - MULTILEVEL - INCL SPLIT LEV/FOYER                float64\n",
      " 271  MSSubClass_SPLIT FOYER                                            float64\n",
      " 272  MSSubClass_SPLIT OR MULTI-LEVEL                                   float64\n",
      "dtypes: float64(239), int64(33), object(1)\n",
      "memory usage: 3.0+ MB\n"
     ]
    }
   ],
   "source": [
    "data2.info(verbose=True)"
   ]
  },
  {
   "cell_type": "code",
   "execution_count": 46,
   "id": "a81b7595",
   "metadata": {},
   "outputs": [
    {
     "name": "stdout",
     "output_type": "stream",
     "text": [
      "dict_values([0, 0, 0, 0, 0, 0, 0, 0, 0, 0, 0, 0, 0, 0, 0, 0, 0, 0, 0, 0, 0, 0, 0, 0, 0, 0, 0, 0, 0, 0, 0, 0, 0, 0, 0, 0, 0, 0, 0, 0, 0, 0, 0, 0, 0, 0, 0, 0, 0, 0, 0, 0, 0, 0, 0, 0, 0, 0, 0, 0, 0, 0, 0, 0, 0, 0, 0, 0, 0, 0, 0, 0, 0, 0, 0, 0, 0, 0, 0, 0, 0, 0, 0, 0, 0, 0, 0, 0, 0, 0, 0, 0, 0, 0, 0, 0, 0, 0, 0, 0, 0, 0, 0, 0, 0, 0, 0, 0, 0, 0, 0, 0, 0, 0, 0, 0, 0, 0, 0, 0, 0, 0, 0, 0, 0, 0, 0, 0, 0, 0, 0, 0, 0, 0, 0, 0, 0, 0, 0, 0, 0, 0, 0, 0, 0, 0, 0, 0, 0, 0, 0, 0, 0, 0, 0, 0, 0, 0, 0, 0, 0, 0, 0, 0, 0, 0, 0, 0, 0, 0, 0, 0, 0, 0, 0, 0, 0, 0, 0, 0, 0, 0, 0, 0, 0, 0, 0, 0, 0, 0, 0, 0, 0, 0, 0, 0, 0, 0, 0, 0, 0, 0, 0, 0, 0, 0, 0, 0, 0, 0, 0, 0, 0, 0, 0, 0, 0, 0, 0, 0, 0, 0, 0, 0, 0, 0, 0, 0, 0, 0, 0, 0, 0, 0, 0, 0, 0, 0, 0, 0, 0, 0, 0, 0, 0, 0, 0, 0, 0, 0, 0, 0, 0, 0, 0, 0, 0, 0, 0, 0, 0, 0, 0, 0, 0, 0, 0, 0, 0, 0, 0, 0, 0])\n"
     ]
    }
   ],
   "source": [
    "print(dict(data2.isna().sum()).values())"
   ]
  },
  {
   "cell_type": "code",
   "execution_count": 49,
   "id": "3eab4359",
   "metadata": {},
   "outputs": [],
   "source": [
    "final_data=data2"
   ]
  },
  {
   "cell_type": "code",
   "execution_count": 60,
   "id": "8caf9839",
   "metadata": {},
   "outputs": [
    {
     "name": "stdout",
     "output_type": "stream",
     "text": [
      "['LotFrontage', 'LotArea', 'OverallQual', 'OverallCond', 'YearBuilt', 'YearRemodAdd', 'MasVnrArea', 'BsmtFinSF1', 'BsmtFinSF2', 'BsmtUnfSF', 'TotalBsmtSF', '1stFlrSF', '2ndFlrSF', 'LowQualFinSF', 'GrLivArea', 'BsmtFullBath', 'BsmtHalfBath', 'FullBath', 'HalfBath', 'BedroomAbvGr', 'KitchenAbvGr', 'TotRmsAbvGrd', 'Fireplaces', 'GarageYrBlt', 'GarageCars', 'GarageArea', 'WoodDeckSF', 'OpenPorchSF', 'EnclosedPorch', '3SsnPorch', 'ScreenPorch', 'PoolArea', 'MiscVal', 'MoSold', 'YrSold', 'SalePrice', 'BsmtFinType1_BLQ', 'BsmtFinType1_GLQ', 'BsmtFinType1_LwQ', 'BsmtFinType1_No Basement', 'BsmtFinType1_Rec', 'BsmtFinType1_Unf', 'Condition2_Feedr', 'Condition2_Norm', 'Condition2_PosA', 'Condition2_PosN', 'Condition2_RRAe', 'Condition2_RRAn', 'Condition2_RRNn', 'Street_Pave', 'Functional_Maj2', 'Functional_Min1', 'Functional_Min2', 'Functional_Mod', 'Functional_Sev', 'Functional_Typ', 'Exterior2nd_AsphShn', 'Exterior2nd_Brk Cmn', 'Exterior2nd_BrkFace', 'Exterior2nd_CBlock', 'Exterior2nd_CmentBd', 'Exterior2nd_HdBoard', 'Exterior2nd_ImStucc', 'Exterior2nd_MetalSd', 'Exterior2nd_Other', 'Exterior2nd_Plywood', 'Exterior2nd_Stone', 'Exterior2nd_Stucco', 'Exterior2nd_VinylSd', 'Exterior2nd_Wd Sdng', 'Exterior2nd_Wd Shng', 'Electrical_FuseF', 'Electrical_FuseP', 'Electrical_Mix', 'Electrical_SBrkr', 'Utilities_NoSeWa', 'BsmtFinType2_BLQ', 'BsmtFinType2_GLQ', 'BsmtFinType2_LwQ', 'BsmtFinType2_No Basement', 'BsmtFinType2_Rec', 'BsmtFinType2_Unf', 'PavedDrive_P', 'PavedDrive_Y', 'PoolQC_Fa', 'PoolQC_Gd', 'PoolQC_No Pool', 'FireplaceQu_Fa', 'FireplaceQu_Gd', 'FireplaceQu_No Fireplace', 'FireplaceQu_Po', 'FireplaceQu_TA', 'Condition1_Feedr', 'Condition1_Norm', 'Condition1_PosA', 'Condition1_PosN', 'Condition1_RRAe', 'Condition1_RRAn', 'Condition1_RRNe', 'Condition1_RRNn', 'BldgType_2fmCon', 'BldgType_Duplex', 'BldgType_Twnhs', 'BldgType_TwnhsE', 'LandSlope_Mod', 'LandSlope_Sev', 'Neighborhood_Blueste', 'Neighborhood_BrDale', 'Neighborhood_BrkSide', 'Neighborhood_ClearCr', 'Neighborhood_CollgCr', 'Neighborhood_Crawfor', 'Neighborhood_Edwards', 'Neighborhood_Gilbert', 'Neighborhood_IDOTRR', 'Neighborhood_MeadowV', 'Neighborhood_Mitchel', 'Neighborhood_NAmes', 'Neighborhood_NPkVill', 'Neighborhood_NWAmes', 'Neighborhood_NoRidge', 'Neighborhood_NridgHt', 'Neighborhood_OldTown', 'Neighborhood_SWISU', 'Neighborhood_Sawyer', 'Neighborhood_SawyerW', 'Neighborhood_Somerst', 'Neighborhood_StoneBr', 'Neighborhood_Timber', 'Neighborhood_Veenker', 'ExterQual_Fa', 'ExterQual_Gd', 'ExterQual_TA', 'Heating_GasA', 'Heating_GasW', 'Heating_Grav', 'Heating_OthW', 'Heating_Wall', 'MiscFeature_None', 'MiscFeature_Othr', 'MiscFeature_Shed', 'MiscFeature_TenC', 'SaleCondition_AdjLand', 'SaleCondition_Alloca', 'SaleCondition_Family', 'SaleCondition_Normal', 'SaleCondition_Partial', 'BsmtCond_Gd', 'BsmtCond_No Basement', 'BsmtCond_Po', 'BsmtCond_TA', 'KitchenQual_Fa', 'KitchenQual_Gd', 'KitchenQual_TA', 'LotShape_IR2', 'LotShape_IR3', 'LotShape_Reg', 'Alley_No Alley', 'Alley_Pave', 'RoofStyle_Gable', 'RoofStyle_Gambrel', 'RoofStyle_Hip', 'RoofStyle_Mansard', 'RoofStyle_Shed', 'BsmtExposure_Gd', 'BsmtExposure_Mn', 'BsmtExposure_No', 'BsmtExposure_No Basement', 'Foundation_CBlock', 'Foundation_PConc', 'Foundation_Slab', 'Foundation_Stone', 'Foundation_Wood', 'LandContour_HLS', 'LandContour_Low', 'LandContour_Lvl', 'GarageFinish_No Garage', 'GarageFinish_RFn', 'GarageFinish_Unf', 'HeatingQC_Fa', 'HeatingQC_Gd', 'HeatingQC_Po', 'HeatingQC_TA', 'Exterior1st_AsphShn', 'Exterior1st_BrkComm', 'Exterior1st_BrkFace', 'Exterior1st_CBlock', 'Exterior1st_CemntBd', 'Exterior1st_HdBoard', 'Exterior1st_ImStucc', 'Exterior1st_MetalSd', 'Exterior1st_Plywood', 'Exterior1st_Stone', 'Exterior1st_Stucco', 'Exterior1st_VinylSd', 'Exterior1st_Wd Sdng', 'Exterior1st_WdShing', 'GarageType_Attchd', 'GarageType_Basment', 'GarageType_BuiltIn', 'GarageType_CarPort', 'GarageType_Detchd', 'GarageType_No Garage', 'HouseStyle_1.5Unf', 'HouseStyle_1Story', 'HouseStyle_2.5Fin', 'HouseStyle_2.5Unf', 'HouseStyle_2Story', 'HouseStyle_SFoyer', 'HouseStyle_SLvl', 'GarageCond_Fa', 'GarageCond_Gd', 'GarageCond_No Garage', 'GarageCond_Po', 'GarageCond_TA', 'LotConfig_CulDSac', 'LotConfig_FR2', 'LotConfig_FR3', 'LotConfig_Inside', 'GarageQual_Fa', 'GarageQual_Gd', 'GarageQual_No Garage', 'GarageQual_Po', 'GarageQual_TA', 'ExterCond_Fa', 'ExterCond_Gd', 'ExterCond_Po', 'ExterCond_TA', 'BsmtQual_Fa', 'BsmtQual_Gd', 'BsmtQual_No Basement', 'BsmtQual_TA', 'CentralAir_Y', 'MSZoning_FV', 'MSZoning_RH', 'MSZoning_RL', 'MSZoning_RM', 'RoofMatl_CompShg', 'RoofMatl_Membran', 'RoofMatl_Metal', 'RoofMatl_Roll', 'RoofMatl_Tar&Grv', 'RoofMatl_WdShake', 'RoofMatl_WdShngl', 'MasVnrType_BrkFace', 'MasVnrType_No Masonry', 'MasVnrType_Stone', 'Fence_GdWo', 'Fence_MnPrv', 'Fence_MnWw', 'Fence_No Fence', 'SaleType_CWD', 'SaleType_Con', 'SaleType_ConLD', 'SaleType_ConLI', 'SaleType_ConLw', 'SaleType_New', 'SaleType_Oth', 'SaleType_WD', 'MSSubClass_1-1/2 STORY FINISHED ALL AGES', 'MSSubClass_1-STORY 1945 & OLDER', 'MSSubClass_1-STORY 1946 & NEWER ALL STYLES', 'MSSubClass_1-STORY PUD (Planned Unit Development) - 1946 & NEWER', 'MSSubClass_1-STORY W/FINISHED ATTIC ALL AGES', 'MSSubClass_2 FAMILY CONVERSION - ALL STYLES AND AGES', 'MSSubClass_2-1/2 STORY ALL AGES', 'MSSubClass_2-STORY 1945 & OLDER', 'MSSubClass_2-STORY 1946 & NEWER', 'MSSubClass_2-STORY PUD - 1946 & NEWER', 'MSSubClass_DUPLEX - ALL STYLES AND AGES', 'MSSubClass_PUD - MULTILEVEL - INCL SPLIT LEV/FOYER', 'MSSubClass_SPLIT FOYER', 'MSSubClass_SPLIT OR MULTI-LEVEL']\n"
     ]
    }
   ],
   "source": [
    "print(list(final_data.columns))"
   ]
  },
  {
   "cell_type": "code",
   "execution_count": 57,
   "id": "776d3a7b",
   "metadata": {},
   "outputs": [],
   "source": [
    "from sklearn.linear_model import LinearRegression,Ridge,Lasso\n",
    "from sklearn.preprocessing import MinMaxScaler\n",
    "from sklearn.feature_selection import RFE\n",
    "from sklearn.model_selection import train_test_split,GridSearchCV,cross_val_score\n"
   ]
  },
  {
   "cell_type": "code",
   "execution_count": 61,
   "id": "0d116d6c",
   "metadata": {},
   "outputs": [],
   "source": [
    "y=final_data.pop('SalePrice')\n",
    "X=final_data"
   ]
  },
  {
   "cell_type": "code",
   "execution_count": 68,
   "id": "e0fd84ee",
   "metadata": {},
   "outputs": [
    {
     "data": {
      "text/plain": [
       "((1021, 272), (1021,), (438, 272), (438,))"
      ]
     },
     "execution_count": 68,
     "metadata": {},
     "output_type": "execute_result"
    }
   ],
   "source": [
    "X_train,X_test,y_train,y_test=train_test_split(X,y,train_size=0.7)\n",
    "X_train.shape,y_train.shape,X_test.shape,y_test.shape"
   ]
  },
  {
   "cell_type": "code",
   "execution_count": null,
   "id": "d81649ad",
   "metadata": {
    "collapsed": true
   },
   "outputs": [],
   "source": []
  }
 ],
 "metadata": {
  "kernelspec": {
   "display_name": "Python 3 (ipykernel)",
   "language": "python",
   "name": "python3"
  },
  "language_info": {
   "codemirror_mode": {
    "name": "ipython",
    "version": 3
   },
   "file_extension": ".py",
   "mimetype": "text/x-python",
   "name": "python",
   "nbconvert_exporter": "python",
   "pygments_lexer": "ipython3",
   "version": "3.11.5"
  }
 },
 "nbformat": 4,
 "nbformat_minor": 5
}
